{
 "cells": [
  {
   "attachments": {
    "image.png": {
     "image/png": "[encoded data removed]"
    }
   },
   "cell_type": "markdown",
   "metadata": {},
   "source": [
    "You are tasked with locating 3 ambulances in Stillwater. There are 5 sites under consideration. Ideally, the 3 ambulances should serve all 6 landmarks below within a 3-minute response time. However, this might not be possible, so you decide to maximize the number of them that are covered. \n",
    "\n",
    "![image.png](attachment:image.png)"
   ]
  },
  {
   "cell_type": "code",
   "execution_count": 1,
   "metadata": {},
   "outputs": [],
   "source": [
    "time_min = { (1,'Airport') : 2,\n",
    "           (1,'Boomer Lake') : 3,\n",
    "           (1,'Hideaway') : 10,\n",
    "           (1,'Couch Park') : 15,\n",
    "           (1,'Movies') : 5,\n",
    "           (1,'Edmon Low') : 7,\n",
    "          (2,'Airport') : 5,\n",
    "           (2,'Boomer Lake') : 6,\n",
    "           (2,'Hideaway') : 7,\n",
    "           (2,'Couch Park') : 12,\n",
    "           (2,'Movies') : 14,\n",
    "           (2,'Edmon Low') : 8,\n",
    "          (3,'Airport') : 9,\n",
    "           (3,'Boomer Lake') : 8,\n",
    "           (3,'Hideaway') : 1,\n",
    "           (3,'Couch Park') : 4,\n",
    "           (3,'Movies') : 8,\n",
    "           (3,'Edmon Low') : 5,\n",
    "          (4,'Airport') : 11,\n",
    "           (4,'Boomer Lake') : 10,\n",
    "           (4,'Hideaway') : 4,\n",
    "           (4,'Couch Park') : 3,\n",
    "           (4,'Movies') : 9,\n",
    "           (4,'Edmon Low') : 8,\n",
    "          (5,'Airport') : 5,\n",
    "           (5,'Boomer Lake') : 3,\n",
    "           (5,'Hideaway') : 9,\n",
    "           (5,'Couch Park') : 10,\n",
    "           (5,'Movies') : 3,\n",
    "           (5,'Edmon Low') : 9 }"
   ]
  },
  {
   "cell_type": "code",
   "execution_count": 2,
   "metadata": {},
   "outputs": [
    {
     "name": "stdout",
     "output_type": "stream",
     "text": [
      "Sites = {1, 2, 3, 4, 5}\n",
      "Landmarks = {'Airport', 'Couch Park', 'Hideaway', 'Movies', 'Boomer Lake', 'Edmon Low'}\n",
      "Number of ambulances to site = 3\n"
     ]
    }
   ],
   "source": [
    "sites = { i for (i,j) in time_min.keys() }\n",
    "print(\"Sites =\",sites)\n",
    "\n",
    "landmarks = { j for (i,j) in time_min.keys() }\n",
    "print(\"Landmarks =\",landmarks)\n",
    "\n",
    "k = 3\n",
    "print(\"Number of ambulances to site =\",k)"
   ]
  },
  {
   "cell_type": "code",
   "execution_count": 3,
   "metadata": {},
   "outputs": [
    {
     "name": "stdout",
     "output_type": "stream",
     "text": [
      "The sites close to landmark Airport are: [1]\n",
      "The sites close to landmark Couch Park are: [4]\n",
      "The sites close to landmark Hideaway are: [3]\n",
      "The sites close to landmark Movies are: [5]\n",
      "The sites close to landmark Boomer Lake are: [1, 5]\n",
      "The sites close to landmark Edmon Low are: []\n"
     ]
    }
   ],
   "source": [
    "close_sites = { j : list() for j in landmarks }\n",
    "\n",
    "for (i,j) in time_min.keys():\n",
    "    if time_min[i,j] <= 3:\n",
    "        close_sites[j].append(i)\n",
    "        \n",
    "for j in landmarks:\n",
    "    print(\"The sites close to landmark\",j,\"are:\",close_sites[j])"
   ]
  },
  {
   "cell_type": "code",
   "execution_count": 4,
   "metadata": {},
   "outputs": [],
   "source": [
    "import gurobipy as gp\n",
    "from gurobipy import GRB"
   ]
  },
  {
   "cell_type": "code",
   "execution_count": 5,
   "metadata": {},
   "outputs": [
    {
     "name": "stdout",
     "output_type": "stream",
     "text": [
      "Set parameter Username\n",
      "Academic license - for non-commercial use only - expires 2023-01-01\n"
     ]
    }
   ],
   "source": [
    "m = gp.Model()\n",
    "x = m.addVars( sites, vtype=GRB.BINARY )     # x[i]=1 if place ambulance at site i\n",
    "y = m.addVars( landmarks, vtype=GRB.BINARY ) # y[j]=1 if landmark j is covered"
   ]
  },
  {
   "cell_type": "code",
   "execution_count": 6,
   "metadata": {},
   "outputs": [],
   "source": [
    "# Objective: maximize the number of landmarks covered\n",
    "m.setObjective( gp.quicksum(y), GRB.MAXIMIZE )"
   ]
  },
  {
   "cell_type": "code",
   "execution_count": 7,
   "metadata": {},
   "outputs": [],
   "source": [
    "# Constraint: site k ambulances\n",
    "m.addConstr( gp.quicksum(x) == k )\n",
    "\n",
    "# Constraints: landmark j is covered only if an ambulance is sited nearby\n",
    "m.addConstrs( gp.quicksum( x[i] for i in close_sites[j] ) >= y[j] for j in landmarks )\n",
    "\n",
    "m.update()"
   ]
  },
  {
   "cell_type": "code",
   "execution_count": 8,
   "metadata": {},
   "outputs": [
    {
     "name": "stdout",
     "output_type": "stream",
     "text": [
      "Gurobi Optimizer version 9.5.0 build v9.5.0rc5 (win64)\n",
      "Thread count: 4 physical cores, 8 logical processors, using up to 8 threads\n",
      "Optimize a model with 7 rows, 11 columns and 17 nonzeros\n",
      "Model fingerprint: 0x4b736af2\n",
      "Variable types: 0 continuous, 11 integer (11 binary)\n",
      "Coefficient statistics:\n",
      "  Matrix range     [1e+00, 1e+00]\n",
      "  Objective range  [1e+00, 1e+00]\n",
      "  Bounds range     [1e+00, 1e+00]\n",
      "  RHS range        [3e+00, 3e+00]\n",
      "Found heuristic solution: objective 2.0000000\n",
      "Presolve removed 7 rows and 11 columns\n",
      "Presolve time: 0.00s\n",
      "Presolve: All rows and columns removed\n",
      "\n",
      "Explored 0 nodes (0 simplex iterations) in 0.04 seconds (0.00 work units)\n",
      "Thread count was 1 (of 8 available processors)\n",
      "\n",
      "Solution count 2: 4 2 \n",
      "\n",
      "Optimal solution found (tolerance 1.00e-04)\n",
      "Best objective 4.000000000000e+00, best bound 4.000000000000e+00, gap 0.0000%\n"
     ]
    }
   ],
   "source": [
    "# Solve\n",
    "m.optimize()"
   ]
  },
  {
   "cell_type": "code",
   "execution_count": 9,
   "metadata": {},
   "outputs": [
    {
     "name": "stdout",
     "output_type": "stream",
     "text": [
      "Chosen sites: [1, 4, 5]\n",
      "Landmarks covered: ['Airport', 'Couch Park', 'Movies', 'Boomer Lake']\n"
     ]
    }
   ],
   "source": [
    "chosen_sites = [ i for i in sites if x[i].x > 0.5 ]\n",
    "print(\"Chosen sites:\",chosen_sites)\n",
    "\n",
    "landmarks_covered = [ j for j in landmarks if y[j].x > 0.5 ]\n",
    "print(\"Landmarks covered:\",landmarks_covered)"
   ]
  },
  {
   "cell_type": "code",
   "execution_count": null,
   "metadata": {},
   "outputs": [],
   "source": []
  }
 ],
 "metadata": {
  "kernelspec": {
   "display_name": "Python 3",
   "language": "python",
   "name": "python3"
  },
  "language_info": {
   "codemirror_mode": {
    "name": "ipython",
    "version": 3
   },
   "file_extension": ".py",
   "mimetype": "text/x-python",
   "name": "python",
   "nbconvert_exporter": "python",
   "pygments_lexer": "ipython3",
   "version": "3.7.10"
  }
 },
 "nbformat": 4,
 "nbformat_minor": 4
}
