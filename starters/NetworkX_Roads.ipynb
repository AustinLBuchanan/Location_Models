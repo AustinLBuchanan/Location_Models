{
 "cells": [
  {
   "cell_type": "code",
   "execution_count": null,
   "metadata": {},
   "outputs": [],
   "source": [
    "import networkx as nx"
   ]
  },
  {
   "cell_type": "code",
   "execution_count": null,
   "metadata": {},
   "outputs": [],
   "source": [
    "# c 9th DIMACS Implementation Challenge: Shortest Paths\n",
    "# c http://www.dis.uniroma1.it/~challenge9\n",
    "# c TIGER/Line graph USA-road-t.COL\n",
    "# c\n",
    "# p sp 435666 1057066\n",
    "# c graph contains 435666 nodes and 1057066 arcs\n",
    "# c\n",
    "# a 1 2 31016\n",
    "# a 2 1 31016\n",
    "# a 3 4 2705\n",
    "# a 4 3 2705\n",
    "# a 5 3 7670\n",
    "# a 3 5 7670\n",
    "# a 6 7 1218\n",
    "# a 7 6 1218\n",
    "#  ...\n",
    "\n",
    "def read_dimacs_road_network(file):\n",
    "    G = nx.Graph()\n",
    "    \n",
    "    with open(file,'r') as f:\n",
    "        \n",
    "        for line in f:\n",
    "            \n",
    "            # ll = Line as a List \n",
    "            ll = line.split()\n",
    "            \n",
    "            # comment line\n",
    "            if ll[0] == 'c':\n",
    "                continue\n",
    "                \n",
    "            # problem line\n",
    "            if ll[0] == 'p':\n",
    "                print(\"Problem type:\",ll[1])\n",
    "                n = int( ll[2] )\n",
    "                m = int( ll[3] )\n",
    "                G.add_nodes_from(range(1,n+1))\n",
    "            \n",
    "            # edge line\n",
    "            if ll[0] == 'a':\n",
    "                i = int( ll[1] )\n",
    "                j = int( ll[2] )\n",
    "                t = int( ll[3] )\n",
    "                G.add_edge( i, j, time=t )\n",
    "    \n",
    "    print(\"Expected number of nodes =\",n)\n",
    "    print(\"Actual number of nodes =\",G.number_of_nodes() )  \n",
    "    \n",
    "    print(\"Expected number of expected edges =\",m)\n",
    "    print(\"Actual number of edges =\",G.number_of_edges() )        \n",
    "    \n",
    "    return G"
   ]
  },
  {
   "cell_type": "code",
   "execution_count": null,
   "metadata": {},
   "outputs": [],
   "source": [
    "# read the graph USA-road-t.COL.gr from external file\n"
   ]
  },
  {
   "cell_type": "code",
   "execution_count": null,
   "metadata": {},
   "outputs": [],
   "source": [
    "# calculate travel time from node 1 to all others\n"
   ]
  },
  {
   "cell_type": "code",
   "execution_count": null,
   "metadata": {},
   "outputs": [],
   "source": [
    "# print the travel times from node 1 to the nearest 20 nodes\n"
   ]
  },
  {
   "cell_type": "code",
   "execution_count": null,
   "metadata": {},
   "outputs": [],
   "source": []
  }
 ],
 "metadata": {
  "kernelspec": {
   "display_name": "Python 3",
   "language": "python",
   "name": "python3"
  },
  "language_info": {
   "codemirror_mode": {
    "name": "ipython",
    "version": 3
   },
   "file_extension": ".py",
   "mimetype": "text/x-python",
   "name": "python",
   "nbconvert_exporter": "python",
   "pygments_lexer": "ipython3",
   "version": "3.7.10"
  }
 },
 "nbformat": 4,
 "nbformat_minor": 4
}
