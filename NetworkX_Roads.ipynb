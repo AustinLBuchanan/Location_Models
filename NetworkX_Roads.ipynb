{
 "cells": [
  {
   "cell_type": "code",
   "execution_count": 1,
   "metadata": {},
   "outputs": [],
   "source": [
    "import networkx as nx"
   ]
  },
  {
   "cell_type": "code",
   "execution_count": 2,
   "metadata": {},
   "outputs": [],
   "source": [
    "# c 9th DIMACS Implementation Challenge: Shortest Paths\n",
    "# c http://www.dis.uniroma1.it/~challenge9\n",
    "# c TIGER/Line graph USA-road-t.COL\n",
    "# c\n",
    "# p sp 435666 1057066\n",
    "# c graph contains 435666 nodes and 1057066 arcs\n",
    "# c\n",
    "# a 1 2 31016\n",
    "# a 2 1 31016\n",
    "# a 3 4 2705\n",
    "# a 4 3 2705\n",
    "# a 5 3 7670\n",
    "# a 3 5 7670\n",
    "# a 6 7 1218\n",
    "# a 7 6 1218\n",
    "\n",
    "def read_dimacs_road_network(file):\n",
    "    G = nx.Graph()\n",
    "    \n",
    "    with open(file,'r') as f:\n",
    "        \n",
    "        for line in f:\n",
    "            \n",
    "            # ll = Line as a List \n",
    "            ll = line.split()\n",
    "            \n",
    "            # comment line\n",
    "            if ll[0] == 'c':\n",
    "                continue\n",
    "                \n",
    "            # problem line\n",
    "            if ll[0] == 'p':\n",
    "                print(\"Problem type:\",ll[1])\n",
    "                n = int( ll[2] )\n",
    "                m = int( ll[3] )\n",
    "                G.add_nodes_from(range(1,n+1))\n",
    "            \n",
    "            # edge line\n",
    "            if ll[0] == 'a':\n",
    "                i = int( ll[1] )\n",
    "                j = int( ll[2] )\n",
    "                t = int( ll[3] )\n",
    "                G.add_edge( i, j, time=t )\n",
    "    \n",
    "    print(\"Expected number of nodes =\",n)\n",
    "    print(\"Actual number of nodes =\",G.number_of_nodes() )  \n",
    "    \n",
    "    print(\"Expected number of expected edges =\",m)\n",
    "    print(\"Actual number of edges =\",G.number_of_edges() )        \n",
    "    \n",
    "    return G"
   ]
  },
  {
   "cell_type": "code",
   "execution_count": 3,
   "metadata": {},
   "outputs": [
    {
     "name": "stdout",
     "output_type": "stream",
     "text": [
      "Problem type: sp\n",
      "Expected number of nodes = 435666\n",
      "Actual number of nodes = 435666\n",
      "Expected number of expected edges = 1057066\n",
      "Actual number of edges = 521200\n"
     ]
    }
   ],
   "source": [
    "filename = \"USA-road-t.COL.gr\"\n",
    "G = read_dimacs_road_network(filename)"
   ]
  },
  {
   "cell_type": "code",
   "execution_count": 4,
   "metadata": {},
   "outputs": [],
   "source": [
    "# calculate distances from node 1 to all others\n",
    "time = nx.shortest_path_length(G,source=1,weight='time')"
   ]
  },
  {
   "cell_type": "code",
   "execution_count": 5,
   "metadata": {},
   "outputs": [
    {
     "name": "stdout",
     "output_type": "stream",
     "text": [
      "Time to 1 is 0\n",
      "Time to 47 is 15030\n",
      "Time to 46 is 23016\n",
      "Time to 898 is 30158\n",
      "Time to 2 is 31016\n",
      "Time to 31 is 66032\n",
      "Time to 33 is 70972\n",
      "Time to 18 is 71643\n",
      "Time to 35 is 72092\n",
      "Time to 897 is 72238\n",
      "Time to 1345 is 96237\n",
      "Time to 17 is 96427\n",
      "Time to 899 is 96688\n",
      "Time to 36 is 100415\n",
      "Time to 1344 is 109302\n",
      "Time to 15 is 111552\n",
      "Time to 34 is 111658\n",
      "Time to 37 is 133746\n",
      "Time to 52 is 135348\n",
      "Time to 909 is 136516\n",
      "Time to 900 is 136806\n"
     ]
    }
   ],
   "source": [
    "print_max = 20\n",
    "printed = 0\n",
    "\n",
    "for i in time.keys():\n",
    "    if printed > print_max:\n",
    "        break\n",
    "    \n",
    "    print(\"Time to\",i,\"is\",time[i])\n",
    "    printed += 1"
   ]
  },
  {
   "cell_type": "code",
   "execution_count": null,
   "metadata": {},
   "outputs": [],
   "source": []
  }
 ],
 "metadata": {
  "kernelspec": {
   "display_name": "Python 3",
   "language": "python",
   "name": "python3"
  },
  "language_info": {
   "codemirror_mode": {
    "name": "ipython",
    "version": 3
   },
   "file_extension": ".py",
   "mimetype": "text/x-python",
   "name": "python",
   "nbconvert_exporter": "python",
   "pygments_lexer": "ipython3",
   "version": "3.7.10"
  }
 },
 "nbformat": 4,
 "nbformat_minor": 4
}
